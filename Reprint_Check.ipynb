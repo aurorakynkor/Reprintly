{
  "nbformat": 4,
  "nbformat_minor": 0,
  "metadata": {
    "colab": {
      "provenance": [],
      "authorship_tag": "ABX9TyPoYlX/n2glw+9d7xiJwV9C",
      "include_colab_link": true
    },
    "kernelspec": {
      "name": "python3",
      "display_name": "Python 3"
    },
    "language_info": {
      "name": "python"
    }
  },
  "cells": [
    {
      "cell_type": "markdown",
      "metadata": {
        "id": "view-in-github",
        "colab_type": "text"
      },
      "source": [
        "<a href=\"https://colab.research.google.com/github/aurorakynkor/Reprintly/blob/main/Reprint_Check.ipynb\" target=\"_parent\"><img src=\"https://colab.research.google.com/assets/colab-badge.svg\" alt=\"Open In Colab\"/></a>"
      ]
    },
    {
      "cell_type": "markdown",
      "source": [
        "Input Cards (use double quotes and commas after each)"
      ],
      "metadata": {
        "id": "1xYqftJv5leu"
      }
    },
    {
      "cell_type": "code",
      "source": [
        "cards_list = [\n",
        "    \"Aerial Boost\",\n",
        "    \"Time Walk\",\n",
        "    \"Assassin's Trophy\"\n",
        "]"
      ],
      "metadata": {
        "id": "deJv4cQn5YX5"
      },
      "execution_count": null,
      "outputs": []
    },
    {
      "cell_type": "markdown",
      "source": [
        "Input Set Codes (Run this once per day or if you need to change set codes)"
      ],
      "metadata": {
        "id": "UsEUSC9S3db1"
      }
    },
    {
      "cell_type": "code",
      "source": [
        "set_codes = input(\"Please enter set_codes seperated by commas (ex: dmu, bro, mom): \")\n",
        "set_codes = set_codes.replace(\" \", \"\").split(',')\n",
        "current_date = date.today()"
      ],
      "metadata": {
        "colab": {
          "base_uri": "https://localhost:8080/"
        },
        "id": "ctv8dCST3QmK",
        "outputId": "aeccc6aa-0938-4a4c-b6bc-7abb227db704"
      },
      "execution_count": null,
      "outputs": [
        {
          "name": "stdout",
          "output_type": "stream",
          "text": [
            "Please enter set_codes seperated by commas (ex: dmu, bro, mom): mkm, mkc, lci\n"
          ]
        }
      ]
    },
    {
      "cell_type": "markdown",
      "source": [
        "Imports (Run this once per day)"
      ],
      "metadata": {
        "id": "KEh-rqcY3Zs3"
      }
    },
    {
      "cell_type": "code",
      "execution_count": null,
      "metadata": {
        "id": "yE73IbGL3Lzv"
      },
      "outputs": [],
      "source": [
        "import requests\n",
        "import time\n",
        "import json\n",
        "import pprint\n",
        "from datetime import date"
      ]
    },
    {
      "cell_type": "markdown",
      "source": [
        "Pull Cards from set codes"
      ],
      "metadata": {
        "id": "x23lxxhL3p42"
      }
    },
    {
      "cell_type": "code",
      "source": [
        "formatted_cards = {}\n",
        "for set_code in set_codes:\n",
        "    # First Get Set Info\n",
        "    response = requests.get(f'https://api.scryfall.com/sets/{set_code}')\n",
        "    data = response.json()\n",
        "    time.sleep(1)\n",
        "\n",
        "    has_more = True\n",
        "    search_uri = data.get('search_uri')\n",
        "\n",
        "    while has_more:\n",
        "        # Then Get All Cards in Set\n",
        "        uri_response = requests.get(f'{search_uri}')\n",
        "        card_data = uri_response.json()\n",
        "\n",
        "        # fetch next page\n",
        "        if card_data.get('has_more'):\n",
        "            search_uri = card_data.get('next_page')\n",
        "        else:\n",
        "            has_more = False\n",
        "\n",
        "        # Format the cards to UTF\n",
        "        for card in card_data.get('data'):\n",
        "            # card = {k: str(v).encode(\"utf-8\") for k,v in card.items()}\n",
        "            formatted_cards[str(card.get('name'))] = card\n",
        "\n",
        "print(f'Distinct Cards Loaded: {len(formatted_cards)}')\n",
        "# print(*formatted_cards, sep='\\n')"
      ],
      "metadata": {
        "colab": {
          "base_uri": "https://localhost:8080/"
        },
        "id": "o7ti_H-N4IQF",
        "outputId": "7ee9d955-acc3-46d7-9a52-8defec3739c3"
      },
      "execution_count": null,
      "outputs": [
        {
          "output_type": "stream",
          "name": "stdout",
          "text": [
            "Distinct Cards Loaded: 869\n"
          ]
        }
      ]
    },
    {
      "cell_type": "markdown",
      "source": [
        "Check if cards are reprints"
      ],
      "metadata": {
        "id": "JGumiA4w4ooj"
      }
    },
    {
      "cell_type": "code",
      "source": [
        "for card in cards_list:\n",
        "    if card in formatted_cards:\n",
        "        print(f'{card}: reprint')\n",
        "    else:\n",
        "        print(f'{card}: not reprint')\n"
      ],
      "metadata": {
        "colab": {
          "base_uri": "https://localhost:8080/"
        },
        "id": "PBt0wmnQ4sNT",
        "outputId": "d53b4729-6f7e-473e-a6ba-7d00e0abfed2"
      },
      "execution_count": null,
      "outputs": [
        {
          "output_type": "stream",
          "name": "stdout",
          "text": [
            "Aerial Boost: not reprint\n",
            "Time Walk: not reprint\n",
            "Assassin's Trophy: reprint\n"
          ]
        }
      ]
    }
  ]
}